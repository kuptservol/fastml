{
 "cells": [
  {
   "cell_type": "code",
   "execution_count": 2,
   "metadata": {},
   "outputs": [],
   "source": [
    "%load_ext autoreload\n",
    "%autoreload 2\n",
    "\n",
    "%matplotlib inline"
   ]
  },
  {
   "cell_type": "code",
   "execution_count": 3,
   "metadata": {},
   "outputs": [],
   "source": [
    "#export\n",
    "from fastml.core import *"
   ]
  },
  {
   "cell_type": "code",
   "execution_count": 4,
   "metadata": {},
   "outputs": [],
   "source": [
    "#export\n",
    "DEFAULT_LOCATION = os.path.expanduser(os.getenv('FASTML_HOME', '~/.fastml'))"
   ]
  },
  {
   "cell_type": "code",
   "execution_count": 5,
   "metadata": {},
   "outputs": [],
   "source": [
    "#export\n",
    "def url2name(url): return url.split('/')[-1]"
   ]
  },
  {
   "cell_type": "code",
   "execution_count": 6,
   "metadata": {},
   "outputs": [],
   "source": [
    "#export\n",
    "def datapath4file(filename):\n",
    "    \"Return data path to `filename`, checking locally first then in the config file.\"\n",
    "    local_path = Path(DEFAULT_LOCATION)/'data'/filename\n",
    "    return local_path"
   ]
  },
  {
   "cell_type": "code",
   "execution_count": 7,
   "metadata": {},
   "outputs": [],
   "source": [
    "#export\n",
    "def default_data_path(url, ext:str='.tgz'):\n",
    "    return datapath4file(f'{url2name(url)}{ext}')"
   ]
  },
  {
   "cell_type": "code",
   "execution_count": 8,
   "metadata": {},
   "outputs": [],
   "source": [
    "#export\n",
    "def download_data(url:str, fname:str=None, ext:str='.tgz') -> Path:\n",
    "    \"Download `url` to destination `fname`.\"\n",
    "    fname = Path(ifnone(fname, default_data_path(url, ext=ext)))\n",
    "    os.makedirs(fname.parent, exist_ok=True)\n",
    "    if not fname.exists():\n",
    "        print(f'Downloading {url}')\n",
    "        download_url(f'{url}{ext}', fname)\n",
    "    return fname"
   ]
  },
  {
   "cell_type": "code",
   "execution_count": 9,
   "metadata": {},
   "outputs": [],
   "source": [
    "#export\n",
    "def normalize(x, mean, std): return (x-mean)/std"
   ]
  },
  {
   "cell_type": "code",
   "execution_count": 10,
   "metadata": {},
   "outputs": [],
   "source": [
    "#export\n",
    "def normalize_data(x_train, y_train, x_valid, y_valid): \n",
    "    train_mean,train_std = x_train.mean(),x_train.std()\n",
    "    x_train = normalize(x_train, train_mean, train_std)\n",
    "    x_valid = normalize(x_valid, train_mean, train_std)\n",
    "    return x_train, y_train, x_valid, y_valid"
   ]
  },
  {
   "cell_type": "code",
   "execution_count": 11,
   "metadata": {},
   "outputs": [],
   "source": [
    "#export\n",
    "def get_data(path):\n",
    "    with gzip.open(path, 'rb') as f:\n",
    "        ((x_train, y_train), (x_valid, y_valid), _) = pickle.load(f, encoding='latin-1')\n",
    "    return map(tensor, (x_train,y_train,x_valid,y_valid))"
   ]
  },
  {
   "cell_type": "code",
   "execution_count": 12,
   "metadata": {},
   "outputs": [],
   "source": [
    "#export\n",
    "class Dataset():\n",
    "    def __init__(self, x, y): self.x,self.y = x,y\n",
    "    def __len__(self): return len(self.x)\n",
    "    def __getitem__(self, i): return self.x[i],self.y[i]"
   ]
  },
  {
   "cell_type": "code",
   "execution_count": 31,
   "metadata": {},
   "outputs": [],
   "source": [
    "#export\n",
    "class DataLoader():\n",
    "    def __init__(self, dataset, batch_size): self.dataset, self.batch_size = dataset, batch_size\n",
    "    def __iter__(self):\n",
    "        for batch_num in range(0, len(self.dataset), self.batch_size): \n",
    "            yield self.dataset[batch_num : batch_num + self.batch_size]"
   ]
  },
  {
   "cell_type": "code",
   "execution_count": 33,
   "metadata": {},
   "outputs": [],
   "source": [
    "#export\n",
    "def wih_data_loader(train_ds, valid_ds, batch_size):\n",
    "    return DataLoader(train_ds, batch_size), DataLoader(valid_ds, batch_size)"
   ]
  },
  {
   "cell_type": "code",
   "execution_count": 34,
   "metadata": {},
   "outputs": [],
   "source": [
    "#export\n",
    "class Datasets:\n",
    "    \n",
    "    @classmethod\n",
    "    def MNIST(cls):\n",
    "        path = download_data('http://deeplearning.net/data/mnist/mnist.pkl', ext='.gz')\n",
    "        x_train, y_train, x_valid, y_valid = get_data(path)\n",
    "        x_train, y_train, x_valid, y_valid = normalize_data(x_train, y_train, x_valid, y_valid)\n",
    "        return Dataset(x_train, y_train), Dataset(x_valid, y_valid)"
   ]
  },
  {
   "cell_type": "code",
   "execution_count": 35,
   "metadata": {},
   "outputs": [],
   "source": [
    "train_ds,valid_ds = Datasets.MNIST()"
   ]
  },
  {
   "cell_type": "code",
   "execution_count": 36,
   "metadata": {},
   "outputs": [],
   "source": [
    "test_near_zero(train_ds.x.mean())\n",
    "test_near_zero(1-train_ds.x.std())"
   ]
  },
  {
   "cell_type": "markdown",
   "metadata": {},
   "source": [
    "## Export"
   ]
  },
  {
   "cell_type": "code",
   "execution_count": 37,
   "metadata": {},
   "outputs": [
    {
     "name": "stdout",
     "output_type": "stream",
     "text": [
      "Converted datasets_dev.ipynb to fastml/data/datasets.py\r\n"
     ]
    }
   ],
   "source": [
    "!python notebook2script.py datasets_dev.ipynb fastml/data/datasets.py"
   ]
  }
 ],
 "metadata": {
  "kernelspec": {
   "display_name": "Python 3",
   "language": "python",
   "name": "python3"
  },
  "language_info": {
   "codemirror_mode": {
    "name": "ipython",
    "version": 3
   },
   "file_extension": ".py",
   "mimetype": "text/x-python",
   "name": "python",
   "nbconvert_exporter": "python",
   "pygments_lexer": "ipython3",
   "version": "3.7.3"
  },
  "pycharm": {
   "stem_cell": {
    "cell_type": "raw",
    "metadata": {
     "collapsed": false
    },
    "source": []
   }
  }
 },
 "nbformat": 4,
 "nbformat_minor": 2
}
