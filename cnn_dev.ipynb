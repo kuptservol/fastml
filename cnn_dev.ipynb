{
 "cells": [
  {
   "cell_type": "code",
   "execution_count": 40,
   "metadata": {},
   "outputs": [
    {
     "name": "stdout",
     "output_type": "stream",
     "text": [
      "The autoreload extension is already loaded. To reload it, use:\n",
      "  %reload_ext autoreload\n"
     ]
    }
   ],
   "source": [
    "%load_ext autoreload\n",
    "%autoreload 2\n",
    "\n",
    "%matplotlib inline"
   ]
  },
  {
   "cell_type": "code",
   "execution_count": 37,
   "metadata": {},
   "outputs": [],
   "source": [
    "#export\n",
    "from fastml.model.model import *\n",
    "from fastml.model.callbacks import *\n",
    "from fastml.examples import examples\n",
    "from functools import partial\n",
    "from fastml.model.callbacks import view_tfm"
   ]
  },
  {
   "cell_type": "code",
   "execution_count": 9,
   "metadata": {},
   "outputs": [],
   "source": [
    "#export\n",
    "def flatten(x): return x.view(x.shape[0], -1)\n",
    "\n",
    "def mnist_resize(x): return x.view(-1, 1, 28, 28)"
   ]
  },
  {
   "cell_type": "code",
   "execution_count": 10,
   "metadata": {},
   "outputs": [
    {
     "data": {
      "text/plain": [
       "(torch.Size([784]), torch.Size([1, 1, 28, 28]), torch.Size([1, 784]))"
      ]
     },
     "execution_count": 10,
     "metadata": {},
     "output_type": "execute_result"
    }
   ],
   "source": [
    "mnist_data.train_ds.x[0].shape, mnist_resize(mnist_data.train_ds.x[0]).shape, flatten(mnist_resize(mnist_data.train_ds.x[0])).shape"
   ]
  },
  {
   "cell_type": "code",
   "execution_count": 34,
   "metadata": {},
   "outputs": [],
   "source": [
    "#export\n",
    "def get_cnn_model(data):\n",
    "    return nn.Sequential(\n",
    "        Lambda(mnist_resize),\n",
    "        nn.Conv2d( 1, 8, 5, padding=2,stride=2), nn.ReLU(), #14\n",
    "        nn.Conv2d( 8,16, 3, padding=1,stride=2), nn.ReLU(), # 7\n",
    "        nn.Conv2d(16,32, 3, padding=1,stride=2), nn.ReLU(), # 4\n",
    "        nn.Conv2d(32,32, 3, padding=1,stride=2), nn.ReLU(), # 2\n",
    "        nn.AdaptiveAvgPool2d(1),\n",
    "        Lambda(flatten),\n",
    "        nn.Linear(32,data.c)\n",
    "    )"
   ]
  },
  {
   "cell_type": "code",
   "execution_count": 35,
   "metadata": {},
   "outputs": [
    {
     "name": "stdout",
     "output_type": "stream",
     "text": [
      "train: [0.4294230859375, 85.76]\n",
      "valid: [0.12580640869140625, 96.12]\n",
      "train: [0.0938552734375, 97.084]\n",
      "valid: [0.07735906982421875, 97.61]\n",
      "CPU times: user 15.1 s, sys: 802 ms, total: 15.9 s\n",
      "Wall time: 16.2 s\n"
     ]
    }
   ],
   "source": [
    "model = get_cnn_model(mnist_data);\n",
    "learner =  Learner(model, optimizers.SGD(model, lr=0.4), loss.cross_entropy(), mnist_data)\n",
    "cb_funcs=[Recorder, partial(AvgStatsCallback, metrics.accuracy)]\n",
    "run = Runner(cb_funcs=cb_funcs)\n",
    "\n",
    "%time run.fit(2, learner)"
   ]
  },
  {
   "cell_type": "code",
   "execution_count": 13,
   "metadata": {},
   "outputs": [
    {
     "data": {
      "image/png": "[encoded data removed]",
      "text/plain": [
       "<Figure size 432x288 with 1 Axes>"
      ]
     },
     "metadata": {
      "needs_background": "light"
     },
     "output_type": "display_data"
    }
   ],
   "source": [
    "run.recorder.plot_loss()"
   ]
  },
  {
   "cell_type": "code",
   "execution_count": 14,
   "metadata": {},
   "outputs": [],
   "source": [
    "#export\n",
    "def conv2d(in_channels, out_channels, kernel_size=3, stride=2):\n",
    "    return nn.Sequential(\n",
    "        nn.Conv2d(in_channels, out_channels, kernel_size, padding=kernel_size//2, stride=stride), nn.ReLU())"
   ]
  },
  {
   "cell_type": "code",
   "execution_count": 27,
   "metadata": {},
   "outputs": [],
   "source": [
    "#export\n",
    "def get_cnn_layers(data, nfs):\n",
    "    nfs = [1] + nfs\n",
    "    return [\n",
    "        conv2d(nfs[i], nfs[i+1], 5 if i==0 else 3)\n",
    "        for i in range(len(nfs)-1)\n",
    "    ] + [nn.AdaptiveAvgPool2d(1), Lambda(flatten), nn.Linear(nfs[-1], data.c)]\n",
    "\n",
    "def get_cnn_model(data, nfs): return nn.Sequential(*get_cnn_layers(data, nfs))\n",
    "\n",
    "mnist_view = view_tfm(1,28,28)"
   ]
  },
  {
   "cell_type": "code",
   "execution_count": 25,
   "metadata": {},
   "outputs": [
    {
     "name": "stdout",
     "output_type": "stream",
     "text": [
      "train: [0.071179345703125, 97.826]\n",
      "valid: [0.39837822265625, 88.61]\n",
      "train: [0.058733017578125, 98.11]\n",
      "valid: [0.09376810302734374, 97.31]\n",
      "CPU times: user 14.3 s, sys: 734 ms, total: 15.1 s\n",
      "Wall time: 15.7 s\n"
     ]
    }
   ],
   "source": [
    "cb_funcs=[Recorder, partial(AvgStatsCallback, metrics.accuracy), partial(BatchTransformXCallback, mnist_view)]\n",
    "model = get_cnn_model(mnist_data, [8,16,32,32])\n",
    "\n",
    "run = Runner(cb_funcs=cb_funcs)\n",
    "%time run.fit(2, learner)"
   ]
  },
  {
   "cell_type": "markdown",
   "metadata": {},
   "source": [
    "## Export"
   ]
  },
  {
   "cell_type": "code",
   "execution_count": 41,
   "metadata": {},
   "outputs": [
    {
     "name": "stdout",
     "output_type": "stream",
     "text": [
      "Converted cnn_dev.ipynb to fastml/model/image/cnn.py\r\n"
     ]
    }
   ],
   "source": [
    "!python notebook2script.py cnn_dev.ipynb fastml/model/image/cnn.py"
   ]
  }
 ],
 "metadata": {
  "kernelspec": {
   "display_name": "Python 3",
   "language": "python",
   "name": "python3"
  },
  "language_info": {
   "codemirror_mode": {
    "name": "ipython",
    "version": 3
   },
   "file_extension": ".py",
   "mimetype": "text/x-python",
   "name": "python",
   "nbconvert_exporter": "python",
   "pygments_lexer": "ipython3",
   "version": "3.7.3"
  }
 },
 "nbformat": 4,
 "nbformat_minor": 2
}
