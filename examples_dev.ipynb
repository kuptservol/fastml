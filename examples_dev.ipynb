{
 "cells": [
  {
   "cell_type": "code",
   "execution_count": 19,
   "metadata": {},
   "outputs": [
    {
     "name": "stdout",
     "output_type": "stream",
     "text": [
      "The autoreload extension is already loaded. To reload it, use:\n",
      "  %reload_ext autoreload\n"
     ]
    }
   ],
   "source": [
    "%load_ext autoreload\n",
    "%autoreload 2\n",
    "\n",
    "%matplotlib inline"
   ]
  },
  {
   "cell_type": "code",
   "execution_count": 20,
   "metadata": {},
   "outputs": [],
   "source": [
    "#export\n",
    "from fastml.model.model import *\n",
    "from fastml.model.image import *\n",
    "from fastml.model.callbacks import *"
   ]
  },
  {
   "cell_type": "code",
   "execution_count": 21,
   "metadata": {},
   "outputs": [],
   "source": [
    "#export\n",
    "def get_mnist_data_bunch(batch_size=64):\n",
    "    train_ds,valid_ds = Datasets.MNIST()\n",
    "    return data_bunch(train_ds, valid_ds, batch_size, train_ds.y.max().item()+1)\n",
    "\n",
    "def get_simple_mnist_lin_learner(data, lr=0.3, nh=50):\n",
    "    out_classes = data.train_ds.y.max().item()+1\n",
    "    in_ = data.train_ds.x.shape[1]\n",
    "    model = nn.Sequential(nn.Linear(in_,nh), nn.ReLU(), nn.Linear(nh,out_classes))\n",
    "    return Learner(model, optimizers.SGD(model, lr=lr), loss.cross_entropy(), data)"
   ]
  },
  {
   "cell_type": "code",
   "execution_count": null,
   "metadata": {},
   "outputs": [],
   "source": [
    "data= get_mnist_data_bunch()"
   ]
  },
  {
   "cell_type": "code",
   "execution_count": 80,
   "metadata": {},
   "outputs": [],
   "source": [
    "#export\n",
    "def get_mnist_cnn(mnist_data, lr=0.3, cnn_layers=[8,16,32,32], loss=loss.cross_entropy(), set_opt_F=lambda model, lr: optimizers.SGD(model, lr), cb_funcs=[]):\n",
    "\n",
    "    mnist_view = view_tfm(1,28,28)\n",
    "    cbfs = cb_funcs+[Recorder, partial(AvgStatsCallback, metrics.accuracy), partial(BatchTransformXCallback, mnist_view)]\n",
    "    model = get_cnn_model(mnist_data, cnn_layers)\n",
    "    opt = set_opt_F(model, lr)\n",
    "    learner =  Learner(model, opt, loss, mnist_data)\n",
    "    runner = Runner(cb_funcs=cbfs)\n",
    "    \n",
    "    return runner, learner"
   ]
  },
  {
   "cell_type": "code",
   "execution_count": 82,
   "metadata": {},
   "outputs": [
    {
     "data": {
      "text/plain": [
       "[<fastml.model.callbacks.TrainEvalCallback at 0x12882c780>,\n",
       " <fastml.model.callbacks.Recorder at 0x12882c828>,\n",
       " <fastml.model.callbacks.AvgStatsCallback at 0x12882c7f0>,\n",
       " <fastml.model.callbacks.BatchTransformXCallback at 0x12882c8d0>]"
      ]
     },
     "execution_count": 82,
     "metadata": {},
     "output_type": "execute_result"
    }
   ],
   "source": [
    "runner, learner = get_mnist_cnn(data)\n",
    "runner.cbs"
   ]
  },
  {
   "cell_type": "markdown",
   "metadata": {},
   "source": [
    "## Export"
   ]
  },
  {
   "cell_type": "code",
   "execution_count": 81,
   "metadata": {},
   "outputs": [
    {
     "name": "stdout",
     "output_type": "stream",
     "text": [
      "Converted examples_dev.ipynb to fastml/examples/examples.py\r\n"
     ]
    }
   ],
   "source": [
    "!python notebook2script.py examples_dev.ipynb fastml/examples/examples.py"
   ]
  }
 ],
 "metadata": {
  "kernelspec": {
   "display_name": "Python 3",
   "language": "python",
   "name": "python3"
  },
  "language_info": {
   "codemirror_mode": {
    "name": "ipython",
    "version": 3
   },
   "file_extension": ".py",
   "mimetype": "text/x-python",
   "name": "python",
   "nbconvert_exporter": "python",
   "pygments_lexer": "ipython3",
   "version": "3.7.3"
  }
 },
 "nbformat": 4,
 "nbformat_minor": 2
}
